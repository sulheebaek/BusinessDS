{
 "cells": [
  {
   "cell_type": "code",
   "execution_count": null,
   "id": "d2d63c45",
   "metadata": {},
   "outputs": [],
   "source": [
    "a = 3\n",
    "a*4"
   ]
  },
  {
   "cell_type": "markdown",
   "id": "22aa5dc6",
   "metadata": {},
   "source": [
    "# 비즈니스를 위한 데이터사이언스\n",
    "## 1일차\n",
    "### 파이썬 기본\n",
    "* 자료형\n",
    "* 시퀀스\n",
    "* 매핑\n",
    "* 제어구문\n",
    "    * 조건문\n",
    "    * 반복문"
   ]
  },
  {
   "cell_type": "code",
   "execution_count": null,
   "id": "27f246d0",
   "metadata": {},
   "outputs": [],
   "source": [
    "# 현재"
   ]
  },
  {
   "cell_type": "code",
   "execution_count": null,
   "id": "48914f05",
   "metadata": {},
   "outputs": [],
   "source": [
    "an_apple = 157"
   ]
  },
  {
   "cell_type": "code",
   "execution_count": null,
   "id": "01b71226",
   "metadata": {},
   "outputs": [],
   "source": [
    "b = [1, 2, 3]"
   ]
  },
  {
   "cell_type": "code",
   "execution_count": null,
   "id": "45ff00c8",
   "metadata": {},
   "outputs": [],
   "source": [
    "b.reverse?"
   ]
  },
  {
   "cell_type": "code",
   "execution_count": null,
   "id": "9192abac",
   "metadata": {},
   "outputs": [],
   "source": [
    "b.reverse()\n",
    "b"
   ]
  },
  {
   "cell_type": "code",
   "execution_count": null,
   "id": "c276e767",
   "metadata": {},
   "outputs": [],
   "source": [
    "import datetime\n",
    "datetime.datetime.now()"
   ]
  },
  {
   "cell_type": "markdown",
   "id": "867912b5",
   "metadata": {},
   "source": [
    "# 매직명령어\n",
    "* 스크립트 파일을 실행하는 매직명령어"
   ]
  },
  {
   "cell_type": "code",
   "execution_count": null,
   "id": "8194bc4b",
   "metadata": {},
   "outputs": [],
   "source": [
    "%run hello.py"
   ]
  },
  {
   "cell_type": "code",
   "execution_count": null,
   "id": "af48591e",
   "metadata": {},
   "outputs": [],
   "source": [
    "# %load hello.py\n",
    "# 안녕을 출력하는 간단한 파이썬 스크립트 파일\n",
    "\n",
    "print(\"안녕하세요.\")"
   ]
  },
  {
   "cell_type": "code",
   "execution_count": null,
   "id": "f9e3a97e",
   "metadata": {},
   "outputs": [],
   "source": [
    "while True:\n",
    "    print(\"안녕\")"
   ]
  },
  {
   "cell_type": "code",
   "execution_count": null,
   "id": "d534f070",
   "metadata": {},
   "outputs": [],
   "source": [
    "# %load hello.py\n",
    "# 안녕을 출력하는 간단한 파이썬 스크립트 파일\n",
    "\n",
    "print(\"안녕하세요.\")"
   ]
  },
  {
   "cell_type": "markdown",
   "id": "699c0401",
   "metadata": {},
   "source": [
    "# 파이썬 문법"
   ]
  },
  {
   "cell_type": "markdown",
   "id": "370fe62c",
   "metadata": {},
   "source": [
    "* 기본구문\n",
    "    * 읽기 쉽고, 쓰기 쉽게\n",
    "    * 코드블럭을 들여쓰기로 구분"
   ]
  },
  {
   "cell_type": "code",
   "execution_count": 4,
   "id": "5427255d",
   "metadata": {},
   "outputs": [
    {
     "name": "stdout",
     "output_type": "stream",
     "text": [
      "5와 같다.\n"
     ]
    }
   ],
   "source": [
    "a = 5\n",
    "\n",
    "if a < 5:\n",
    "    print(\"5보다 작다.\")\n",
    "    a = a + 1\n",
    "elif a == 5:\n",
    "    print(\"5와 같다.\")\n",
    "else:\n",
    "    print(\"5보다 크다.\")\n",
    "    a = a - 1"
   ]
  },
  {
   "cell_type": "code",
   "execution_count": 5,
   "id": "91119755",
   "metadata": {},
   "outputs": [],
   "source": [
    "# 모듈: 패키지, 폴더, 파일, 클래스, 함수, 변수\n",
    "import datetime"
   ]
  },
  {
   "cell_type": "code",
   "execution_count": 8,
   "id": "54d21ba3",
   "metadata": {},
   "outputs": [
    {
     "data": {
      "text/plain": [
       "array([[-1.20594623, -0.10253818, -0.07612033],\n",
       "       [-0.59241697,  2.5626955 , -0.8895853 ]])"
      ]
     },
     "execution_count": 8,
     "metadata": {},
     "output_type": "execute_result"
    }
   ],
   "source": [
    "# 모듈 임포트\n",
    "import numpy as np\n",
    "np.random.randn(2, 3)"
   ]
  },
  {
   "cell_type": "code",
   "execution_count": 10,
   "id": "4cc58ba8",
   "metadata": {},
   "outputs": [
    {
     "data": {
      "text/plain": [
       "array([[ 2.11167425, -0.74873292,  0.83060694],\n",
       "       [ 2.29740364, -0.74108436,  0.17495985]])"
      ]
     },
     "execution_count": 10,
     "metadata": {},
     "output_type": "execute_result"
    }
   ],
   "source": [
    "from numpy.random import randn\n",
    "randn(2, 3)"
   ]
  },
  {
   "cell_type": "markdown",
   "id": "7ba46e65",
   "metadata": {},
   "source": [
    "* 파이썬 자료형\n",
    "    * 수치형: int(정수), float(부동소수점 실수), complex(복소수)\n",
    "    * 시퀀스형: 순서가 있는 자료구조\n",
    "        - 리스트: list(), 요소의 치환이 가능한 mutable\n",
    "        - 튜플: tuple(), 요소의 치환이 불가능한 immutable\n",
    "        - 문자열: str(), 요소의 치환이 불가능한 immutable\n",
    "    * 매핑형: key-value 쌍이 매핑되는 자료구조\n",
    "        - 사전형: dict()"
   ]
  },
  {
   "cell_type": "code",
   "execution_count": 11,
   "id": "944cf6e7",
   "metadata": {},
   "outputs": [
    {
     "data": {
      "text/plain": [
       "7"
      ]
     },
     "execution_count": 11,
     "metadata": {},
     "output_type": "execute_result"
    }
   ],
   "source": [
    "# 수치형\n",
    "i = 3\n",
    "j = 4\n",
    "# 연산\n",
    "i + j"
   ]
  },
  {
   "cell_type": "code",
   "execution_count": 12,
   "id": "9d5d72d6",
   "metadata": {},
   "outputs": [
    {
     "data": {
      "text/plain": [
       "-1"
      ]
     },
     "execution_count": 12,
     "metadata": {},
     "output_type": "execute_result"
    }
   ],
   "source": [
    "i - j"
   ]
  },
  {
   "cell_type": "code",
   "execution_count": 14,
   "id": "7c752819",
   "metadata": {},
   "outputs": [
    {
     "data": {
      "text/plain": [
       "12"
      ]
     },
     "execution_count": 14,
     "metadata": {},
     "output_type": "execute_result"
    }
   ],
   "source": [
    "i * j"
   ]
  },
  {
   "cell_type": "code",
   "execution_count": 15,
   "id": "d10deceb",
   "metadata": {},
   "outputs": [
    {
     "data": {
      "text/plain": [
       "0.75"
      ]
     },
     "execution_count": 15,
     "metadata": {},
     "output_type": "execute_result"
    }
   ],
   "source": [
    "i / j"
   ]
  },
  {
   "cell_type": "markdown",
   "id": "b2c09626",
   "metadata": {},
   "source": [
    "* 산술연산자, 치환연산자, 비교연산자, in, is 등 다양한 연산자가 있는데 연산을 할 때는 연산자 우선순위를 주의해야 함."
   ]
  },
  {
   "cell_type": "code",
   "execution_count": 17,
   "id": "c658aa14",
   "metadata": {},
   "outputs": [
    {
     "data": {
      "text/plain": [
       "14"
      ]
     },
     "execution_count": 17,
     "metadata": {},
     "output_type": "execute_result"
    }
   ],
   "source": [
    "(3+4)*2"
   ]
  },
  {
   "cell_type": "markdown",
   "id": "21596e7c",
   "metadata": {},
   "source": [
    "* 시퀀스형\n",
    "    * 리스트: 요소의 치환이 가능한 mutable한 타입\n",
    "    * 리스트 활용 실습: ~ 3:32"
   ]
  },
  {
   "cell_type": "code",
   "execution_count": 20,
   "id": "62c858f1",
   "metadata": {},
   "outputs": [],
   "source": [
    "l = [1, 2, 3]\n",
    "# 요소를 추가할 수 있는 메소드\n",
    "# append, extend, insert"
   ]
  },
  {
   "cell_type": "code",
   "execution_count": 21,
   "id": "4fe78e59",
   "metadata": {},
   "outputs": [
    {
     "data": {
      "text/plain": [
       "[1, 2, 3, 40]"
      ]
     },
     "execution_count": 21,
     "metadata": {},
     "output_type": "execute_result"
    }
   ],
   "source": [
    "# 1. l의 마지막에 40이라는 요소를 추가하라.\n",
    "l.append(40)\n",
    "l"
   ]
  },
  {
   "cell_type": "code",
   "execution_count": 22,
   "id": "5f1eaec2",
   "metadata": {},
   "outputs": [
    {
     "data": {
      "text/plain": [
       "[1, 2, 3, 40, 40, 50]"
      ]
     },
     "execution_count": 22,
     "metadata": {},
     "output_type": "execute_result"
    }
   ],
   "source": [
    "# 2. l의 마지막에 [40, 50]이라는 리스트를 연결하라.\n",
    "l.extend([40, 50])\n",
    "l"
   ]
  },
  {
   "cell_type": "code",
   "execution_count": 23,
   "id": "451b2d8b",
   "metadata": {},
   "outputs": [
    {
     "data": {
      "text/plain": [
       "[40, 1, 2, 3, 40, 40, 50]"
      ]
     },
     "execution_count": 23,
     "metadata": {},
     "output_type": "execute_result"
    }
   ],
   "source": [
    "# 3. l의 첫 요소로 40을 추가하라\n",
    "l.insert(0, 40)\n",
    "l"
   ]
  },
  {
   "cell_type": "code",
   "execution_count": null,
   "id": "df5fadf3",
   "metadata": {},
   "outputs": [],
   "source": [
    "# 요소를 삭제하는 메소드\n",
    "# remove (값을 기준으로 삭제), pop (인덱스 번호를 기준으로 삭제)"
   ]
  },
  {
   "cell_type": "code",
   "execution_count": 25,
   "id": "e2644d2d",
   "metadata": {},
   "outputs": [
    {
     "data": {
      "text/plain": [
       "[1, 2, 3, 40, 50]"
      ]
     },
     "execution_count": 25,
     "metadata": {},
     "output_type": "execute_result"
    }
   ],
   "source": [
    "l.remove(40)\n",
    "l"
   ]
  },
  {
   "cell_type": "code",
   "execution_count": 26,
   "id": "f42338d1",
   "metadata": {},
   "outputs": [
    {
     "data": {
      "text/plain": [
       "[1, 2, 3, 50]"
      ]
     },
     "execution_count": 26,
     "metadata": {},
     "output_type": "execute_result"
    }
   ],
   "source": [
    "l.pop(3)\n",
    "l"
   ]
  },
  {
   "cell_type": "markdown",
   "id": "ffe8a576",
   "metadata": {},
   "source": [
    "# 문자열의 처리"
   ]
  },
  {
   "cell_type": "code",
   "execution_count": 28,
   "id": "d85060e0",
   "metadata": {},
   "outputs": [
    {
     "data": {
      "text/plain": [
       "['This', 'is', 'a,string']"
      ]
     },
     "execution_count": 28,
     "metadata": {},
     "output_type": "execute_result"
    }
   ],
   "source": [
    "s = \"This.is.a,string\"\n",
    "s.split(\".\")"
   ]
  },
  {
   "cell_type": "code",
   "execution_count": 29,
   "id": "079b6628",
   "metadata": {},
   "outputs": [
    {
     "data": {
      "text/plain": [
       "'This.is.a,string'"
      ]
     },
     "execution_count": 29,
     "metadata": {},
     "output_type": "execute_result"
    }
   ],
   "source": [
    "s.capitalize()"
   ]
  },
  {
   "cell_type": "code",
   "execution_count": 30,
   "id": "097764ef",
   "metadata": {},
   "outputs": [
    {
     "data": {
      "text/plain": [
       "['This', 'is', 'a,string']"
      ]
     },
     "execution_count": 30,
     "metadata": {},
     "output_type": "execute_result"
    }
   ],
   "source": [
    "s.split(\".\")"
   ]
  },
  {
   "cell_type": "code",
   "execution_count": 31,
   "id": "536f0631",
   "metadata": {},
   "outputs": [
    {
     "data": {
      "text/plain": [
       "'THIS.IS.A,STRING'"
      ]
     },
     "execution_count": 31,
     "metadata": {},
     "output_type": "execute_result"
    }
   ],
   "source": [
    "s.upper()"
   ]
  },
  {
   "cell_type": "code",
   "execution_count": 32,
   "id": "9f96d7aa",
   "metadata": {},
   "outputs": [
    {
     "data": {
      "text/plain": [
       "'this.is.a,string'"
      ]
     },
     "execution_count": 32,
     "metadata": {},
     "output_type": "execute_result"
    }
   ],
   "source": [
    "s.lower()"
   ]
  },
  {
   "cell_type": "code",
   "execution_count": 34,
   "id": "959d38b6",
   "metadata": {},
   "outputs": [
    {
     "data": {
      "text/plain": [
       "True"
      ]
     },
     "execution_count": 34,
     "metadata": {},
     "output_type": "execute_result"
    }
   ],
   "source": [
    "\"hello.py\".endswith(\".py\")"
   ]
  },
  {
   "cell_type": "code",
   "execution_count": 36,
   "id": "a4acbf73",
   "metadata": {},
   "outputs": [
    {
     "data": {
      "text/plain": [
       "'This.is.a,string'"
      ]
     },
     "execution_count": 36,
     "metadata": {},
     "output_type": "execute_result"
    }
   ],
   "source": [
    "s"
   ]
  },
  {
   "cell_type": "code",
   "execution_count": 37,
   "id": "fa92efbd",
   "metadata": {},
   "outputs": [
    {
     "data": {
      "text/plain": [
       "10"
      ]
     },
     "execution_count": 37,
     "metadata": {},
     "output_type": "execute_result"
    }
   ],
   "source": [
    "s.find('string')"
   ]
  },
  {
   "cell_type": "code",
   "execution_count": 38,
   "id": "4aa2295d",
   "metadata": {},
   "outputs": [
    {
     "data": {
      "text/plain": [
       "'This.is.a,sentence'"
      ]
     },
     "execution_count": 38,
     "metadata": {},
     "output_type": "execute_result"
    }
   ],
   "source": [
    "s.replace('string', 'sentence')"
   ]
  },
  {
   "cell_type": "code",
   "execution_count": 39,
   "id": "7ab03f70",
   "metadata": {},
   "outputs": [
    {
     "data": {
      "text/plain": [
       "'This.is.a,string'"
      ]
     },
     "execution_count": 39,
     "metadata": {},
     "output_type": "execute_result"
    }
   ],
   "source": [
    "s"
   ]
  },
  {
   "cell_type": "markdown",
   "id": "e236ccbc",
   "metadata": {},
   "source": [
    "# 매핑형"
   ]
  },
  {
   "cell_type": "code",
   "execution_count": 40,
   "id": "149518d6",
   "metadata": {},
   "outputs": [
    {
     "data": {
      "text/plain": [
       "20"
      ]
     },
     "execution_count": 40,
     "metadata": {},
     "output_type": "execute_result"
    }
   ],
   "source": [
    "d = {\"나이\":10, \"허리둘레\":20, \"발크기\":30}\n",
    "d[\"허리둘레\"]"
   ]
  },
  {
   "cell_type": "code",
   "execution_count": 41,
   "id": "af438c80",
   "metadata": {},
   "outputs": [
    {
     "data": {
      "text/plain": [
       "{'나이': 10, '허리둘레': 25, '발크기': 30}"
      ]
     },
     "execution_count": 41,
     "metadata": {},
     "output_type": "execute_result"
    }
   ],
   "source": [
    "d[\"허리둘레\"] = 25 # mutable\n",
    "d"
   ]
  },
  {
   "cell_type": "markdown",
   "id": "cfa335f6",
   "metadata": {},
   "source": [
    "## 실습: \n",
    "사전형을 활용하여 알파벳의 빈도를 카운트하는 코드블럭 작성"
   ]
  },
  {
   "cell_type": "code",
   "execution_count": 47,
   "id": "fb7675f5",
   "metadata": {},
   "outputs": [
    {
     "data": {
      "text/plain": [
       "{'L': 1,\n",
       " 'i': 3,\n",
       " 'f': 1,\n",
       " 'e': 2,\n",
       " ' ': 6,\n",
       " 's': 5,\n",
       " 'h': 2,\n",
       " 'o': 3,\n",
       " 'r': 1,\n",
       " 't': 2,\n",
       " ',': 1,\n",
       " 'p': 1,\n",
       " 'y': 2,\n",
       " 'n': 1,\n",
       " 'a': 1,\n",
       " '.': 1}"
      ]
     },
     "execution_count": 47,
     "metadata": {},
     "output_type": "execute_result"
    }
   ],
   "source": [
    "s = \"Life is short, so python is easy.\"\n",
    "punct = \",. \"\n",
    "d = {}\n",
    "for c in s:\n",
    "    if c in d.keys():\n",
    "        d[c] = d[c] + 1\n",
    "    else:\n",
    "        d[c] = 0 + 1\n",
    "d"
   ]
  },
  {
   "cell_type": "code",
   "execution_count": 49,
   "id": "e6e39eae",
   "metadata": {},
   "outputs": [
    {
     "data": {
      "text/plain": [
       "{'L': 1,\n",
       " 'i': 3,\n",
       " 'f': 1,\n",
       " 'e': 2,\n",
       " 's': 5,\n",
       " 'h': 2,\n",
       " 'o': 3,\n",
       " 'r': 1,\n",
       " 't': 2,\n",
       " 'p': 1,\n",
       " 'y': 2,\n",
       " 'n': 1,\n",
       " 'a': 1}"
      ]
     },
     "execution_count": 49,
     "metadata": {},
     "output_type": "execute_result"
    }
   ],
   "source": [
    "s = \"Life is short, so python is easy.\"\n",
    "punct = \",. \"\n",
    "d = {}\n",
    "for c in s:\n",
    "    if c in punct:\n",
    "        continue\n",
    "    d[c] = d.get(c, 0) + 1\n",
    "d"
   ]
  },
  {
   "cell_type": "markdown",
   "id": "82a16d01",
   "metadata": {},
   "source": [
    "* 제어구문\n",
    "    * 조건문\n",
    "    * 반복문"
   ]
  },
  {
   "cell_type": "code",
   "execution_count": 53,
   "id": "169c0f7f",
   "metadata": {},
   "outputs": [
    {
     "name": "stdout",
     "output_type": "stream",
     "text": [
      "1부터 10 사이의 정수를 입력하세요.10\n",
      "10\n",
      "5보다 크다.\n"
     ]
    }
   ],
   "source": [
    "# 조건문\n",
    "x = eval(input(\"1부터 10 사이의 정수를 입력하세요.\"))\n",
    "print(x)\n",
    "\n",
    "if x < 5:\n",
    "    print(\"5보다 작다.\")\n",
    "elif x == 5:\n",
    "    print(\"5와 같다.\")\n",
    "else:\n",
    "    print(\"5보다 크다.\")"
   ]
  },
  {
   "cell_type": "code",
   "execution_count": 58,
   "id": "ac53b736",
   "metadata": {},
   "outputs": [
    {
     "name": "stdout",
     "output_type": "stream",
     "text": [
      "1\n",
      "4\n",
      "9\n",
      "h e l l o "
     ]
    }
   ],
   "source": [
    "# 반복문\n",
    "# 1. for 루프\n",
    "for i in [1, 2, 3]:\n",
    "    print(i**2)\n",
    "\n",
    "for c in \"hello\":\n",
    "    print(c, end=' ')"
   ]
  },
  {
   "cell_type": "code",
   "execution_count": 61,
   "id": "780e93f1",
   "metadata": {},
   "outputs": [
    {
     "name": "stdout",
     "output_type": "stream",
     "text": [
      "1\n",
      "4\n",
      "9\n"
     ]
    }
   ],
   "source": [
    "# 2. while 루프\n",
    "i = 1\n",
    "while i < 4: # 반복을 멈추는 조건\n",
    "    print(i**2)\n",
    "    i = i+1 # 증감연산"
   ]
  },
  {
   "cell_type": "code",
   "execution_count": 63,
   "id": "7915b17e",
   "metadata": {},
   "outputs": [
    {
     "name": "stdout",
     "output_type": "stream",
     "text": [
      "h e l l o "
     ]
    }
   ],
   "source": [
    "s = \"hello\"\n",
    "i = 0\n",
    "while i < len(s):\n",
    "    print(s[i], end=\" \")\n",
    "    i = i+1"
   ]
  },
  {
   "cell_type": "markdown",
   "id": "d7aaa58a",
   "metadata": {},
   "source": [
    "# [실습] 1부터 10까지 합계를 구하는 코드블럭을 작성하라. \n",
    "# (실습 및 휴식~5:00)"
   ]
  },
  {
   "cell_type": "markdown",
   "id": "5c3ed706",
   "metadata": {},
   "source": [
    "## for 루프로 구현"
   ]
  },
  {
   "cell_type": "code",
   "execution_count": 70,
   "id": "a3fdf415",
   "metadata": {},
   "outputs": [
    {
     "name": "stdout",
     "output_type": "stream",
     "text": [
      "55.0\n"
     ]
    }
   ],
   "source": [
    "total = 0.0\n",
    "for i in range(1, 11):\n",
    "    total = total + i\n",
    "print(total)"
   ]
  },
  {
   "cell_type": "markdown",
   "id": "0450bd59",
   "metadata": {},
   "source": [
    "## while 루프로 구현"
   ]
  },
  {
   "cell_type": "code",
   "execution_count": 65,
   "id": "1b11b812",
   "metadata": {},
   "outputs": [
    {
     "name": "stdout",
     "output_type": "stream",
     "text": [
      "55.0\n"
     ]
    }
   ],
   "source": [
    "total = 0.0\n",
    "i = 1\n",
    "while i < 11:\n",
    "    total = total + i\n",
    "    i = i + 1\n",
    "print(total)"
   ]
  },
  {
   "cell_type": "code",
   "execution_count": 67,
   "id": "5136de92",
   "metadata": {},
   "outputs": [
    {
     "data": {
      "text/plain": [
       "[0, 1, 2, 3, 4, 5, 6, 7, 8, 9]"
      ]
     },
     "execution_count": 67,
     "metadata": {},
     "output_type": "execute_result"
    }
   ],
   "source": [
    "list(range(10))"
   ]
  },
  {
   "cell_type": "code",
   "execution_count": 68,
   "id": "ff8d6624",
   "metadata": {},
   "outputs": [
    {
     "data": {
      "text/plain": [
       "[0, 1, 2, 3, 4, 5, 6, 7, 8, 9]"
      ]
     },
     "execution_count": 68,
     "metadata": {},
     "output_type": "execute_result"
    }
   ],
   "source": [
    "list(range(0, 10))"
   ]
  },
  {
   "cell_type": "code",
   "execution_count": 69,
   "id": "573305d9",
   "metadata": {},
   "outputs": [
    {
     "data": {
      "text/plain": [
       "[0, 2, 4, 6, 8]"
      ]
     },
     "execution_count": 69,
     "metadata": {},
     "output_type": "execute_result"
    }
   ],
   "source": [
    "list(range(0, 10, 2))"
   ]
  },
  {
   "cell_type": "markdown",
   "id": "0127b414",
   "metadata": {},
   "source": [
    "* 파일 처리\n",
    "    - 열기\n",
    "    - 작업(읽기 또는 쓰기)\n",
    "    - 닫기"
   ]
  },
  {
   "cell_type": "code",
   "execution_count": 71,
   "id": "61bf8064",
   "metadata": {},
   "outputs": [
    {
     "name": "stdout",
     "output_type": "stream",
     "text": [
      "I am happy to join with you today in what will go down in history as the greatest demonstration for \n"
     ]
    }
   ],
   "source": [
    "# 읽기 작업\n",
    "fi = open(\"ihaveadream.txt\", \"r\")\n",
    "s = fi.read()\n",
    "fi.close()\n",
    "print(s[:100])"
   ]
  },
  {
   "cell_type": "code",
   "execution_count": 72,
   "id": "8c6c9c02",
   "metadata": {},
   "outputs": [],
   "source": [
    "# 쓰기 작업\n",
    "fo = open(\"out.txt\", \"w\")\n",
    "fo.write(\"파이썬 파일에 쓰기 테스트\\n두번째 줄\")\n",
    "fo.close()"
   ]
  },
  {
   "cell_type": "code",
   "execution_count": 73,
   "id": "10d0a76c",
   "metadata": {},
   "outputs": [
    {
     "name": "stdout",
     "output_type": "stream",
     "text": [
      "I am happy to join with you today in what will go down in history as the greatest demonstration for \n"
     ]
    }
   ],
   "source": [
    "# 읽기 작업, with 예약어를 사용하여\n",
    "with open(\"ihaveadream.txt\", \"r\") as fi:\n",
    "    s = fi.read()\n",
    "\n",
    "print(s[:100])"
   ]
  },
  {
   "cell_type": "code",
   "execution_count": 74,
   "id": "8cf18493",
   "metadata": {},
   "outputs": [],
   "source": [
    "# 쓰기 작업, with 예약어를 사용하여\n",
    "with open(\"out.txt\", \"w\") as fo:\n",
    "    fo.write(\"파이썬 파일에 쓰기 테스트2\\n두번째 줄\")"
   ]
  },
  {
   "cell_type": "markdown",
   "id": "032a6227",
   "metadata": {},
   "source": [
    "# 실습: \n",
    "* ihaveadream.txt에서 중지단어를 제외한 단어 중 빈도가 가장 큰 10개의 단어를 추출하자."
   ]
  },
  {
   "cell_type": "code",
   "execution_count": 90,
   "id": "8ede9694",
   "metadata": {},
   "outputs": [
    {
     "name": "stdout",
     "output_type": "stream",
     "text": [
      "[('freedom', 19), ('negro', 13), ('day', 10), ('dream', 9), ('ring', 9), ('able', 8), ('nation', 7), ('white', 6), ('satisfied', 6), ('america', 5)]\n"
     ]
    }
   ],
   "source": [
    "with open(\"ihaveadream.txt\", \"r\") as fi:\n",
    "    s = fi.read().lower()\n",
    "    \n",
    "with open(\"stopwords.txt\", \"r\") as fi2:\n",
    "    punct = fi2.read().split(\"\\n\\n\")\n",
    "    \n",
    "d = {}\n",
    "for w in s.split(\" \"):\n",
    "    if w in punct:\n",
    "        continue\n",
    "    d[w] = d.get(w, 0) + 1\n",
    "top10 = sorted(d.items(), key=lambda x:x[1], reverse=True)[:10]\n",
    "print(top10)\n",
    "\n",
    "with open(\"result.txt\", \"w\") as fo:\n",
    "    fo.write(str(top10))"
   ]
  },
  {
   "cell_type": "markdown",
   "id": "19bf7863",
   "metadata": {},
   "source": [
    "* 함수"
   ]
  }
 ],
 "metadata": {
  "kernelspec": {
   "display_name": "Python 3 (ipykernel)",
   "language": "python",
   "name": "python3"
  },
  "language_info": {
   "codemirror_mode": {
    "name": "ipython",
    "version": 3
   },
   "file_extension": ".py",
   "mimetype": "text/x-python",
   "name": "python",
   "nbconvert_exporter": "python",
   "pygments_lexer": "ipython3",
   "version": "3.8.13"
  }
 },
 "nbformat": 4,
 "nbformat_minor": 5
}
